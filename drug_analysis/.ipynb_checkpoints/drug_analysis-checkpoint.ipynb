{
 "cells": [
  {
   "cell_type": "markdown",
   "metadata": {
    "heading_collapsed": true
   },
   "source": [
    "# Analysis of Drug Data"
   ]
  },
  {
   "cell_type": "markdown",
   "metadata": {
    "hidden": true
   },
   "source": [
    "data from: https://catalog.data.gov/dataset/medicare-part-d-spending-by-drug\n",
    "\n",
    "resource here: https://jakevdp.github.io/PythonDataScienceHandbook/"
   ]
  },
  {
   "cell_type": "code",
   "execution_count": 66,
   "metadata": {
    "hidden": true
   },
   "outputs": [],
   "source": [
    "import pandas as pd \n",
    "import matplotlib.pyplot as plt \n",
    "import ipywidgets as widgets\n",
    "import numpy as np \n",
    "from ipywidgets import interact, interactive\n",
    "import matplotlib.pyplot as plt "
   ]
  },
  {
   "cell_type": "code",
   "execution_count": 3,
   "metadata": {
    "hidden": true
   },
   "outputs": [],
   "source": [
    "drug_df = pd.read_csv('part_d_spending.csv')\n",
    "drug_df.sort_values(by='Tot_Clms_2019',inplace=True,ascending=False)\n",
    "drug_df.reset_index(inplace=True,drop=True)"
   ]
  },
  {
   "cell_type": "markdown",
   "metadata": {},
   "source": [
    "# Widgets: "
   ]
  },
  {
   "cell_type": "code",
   "execution_count": 4,
   "metadata": {
    "scrolled": true
   },
   "outputs": [
    {
     "data": {
      "application/vnd.jupyter.widget-view+json": {
       "model_id": "b509135fc2a0496ea0457f4967ecdf31",
       "version_major": 2,
       "version_minor": 0
      },
      "text/plain": [
       "Dropdown(description='Drug Name', options=('Atorvastatin Calcium', 'Amlodipine Besylate', 'Levothyroxine Sodiu…"
      ]
     },
     "metadata": {},
     "output_type": "display_data"
    }
   ],
   "source": [
    "#that's pretty neat - I'm not sure how to use widgets and it probably won't display in github. But still, pretty cool.\n",
    "widgets.Dropdown(\n",
    "    options=drug_df['Brnd_Name'].unique(),\n",
    "    description='Drug Name')"
   ]
  },
  {
   "cell_type": "code",
   "execution_count": 67,
   "metadata": {},
   "outputs": [
    {
     "data": {
      "application/vnd.jupyter.widget-view+json": {
       "model_id": "ad5742be39a94235b0128838dfc016e8",
       "version_major": 2,
       "version_minor": 0
      },
      "text/plain": [
       "interactive(children=(FloatSlider(value=0.0, description='m', max=2.0, min=-2.0), FloatSlider(value=0.0, descr…"
      ]
     },
     "metadata": {},
     "output_type": "display_data"
    }
   ],
   "source": [
    "def f(m, b):\n",
    "    plt.figure(2)\n",
    "    x = np.linspace(-10, 10, num=1000)\n",
    "    plt.plot(x, m * x + b)\n",
    "    plt.ylim(-5, 5)\n",
    "    plt.show()\n",
    "\n",
    "interactive_plot = interactive(f, m=(-2.0, 2.0), b=(-3, 3, 0.5))\n",
    "output = interactive_plot.children[-1]\n",
    "output.layout.height = '350px'\n",
    "interactive_plot"
   ]
  },
  {
   "cell_type": "markdown",
   "metadata": {
    "heading_collapsed": true
   },
   "source": [
    "# Subsetting into the largest drugs by spending \n"
   ]
  },
  {
   "cell_type": "code",
   "execution_count": 7,
   "metadata": {
    "hidden": true,
    "scrolled": true
   },
   "outputs": [
    {
     "data": {
      "text/html": [
       "<div>\n",
       "<style scoped>\n",
       "    .dataframe tbody tr th:only-of-type {\n",
       "        vertical-align: middle;\n",
       "    }\n",
       "\n",
       "    .dataframe tbody tr th {\n",
       "        vertical-align: top;\n",
       "    }\n",
       "\n",
       "    .dataframe thead th {\n",
       "        text-align: right;\n",
       "    }\n",
       "</style>\n",
       "<table border=\"1\" class=\"dataframe\">\n",
       "  <thead>\n",
       "    <tr style=\"text-align: right;\">\n",
       "      <th></th>\n",
       "      <th>brand_name</th>\n",
       "      <th>total_spending</th>\n",
       "      <th>unit_cost</th>\n",
       "      <th>total_claims</th>\n",
       "      <th>year</th>\n",
       "    </tr>\n",
       "  </thead>\n",
       "  <tbody>\n",
       "    <tr>\n",
       "      <th>0</th>\n",
       "      <td>Atorvastatin Calcium</td>\n",
       "      <td>9.186291e+08</td>\n",
       "      <td>16.802340</td>\n",
       "      <td>54672688</td>\n",
       "      <td>2019</td>\n",
       "    </tr>\n",
       "    <tr>\n",
       "      <th>1</th>\n",
       "      <td>Amlodipine Besylate</td>\n",
       "      <td>3.092555e+08</td>\n",
       "      <td>7.317753</td>\n",
       "      <td>42260991</td>\n",
       "      <td>2019</td>\n",
       "    </tr>\n",
       "    <tr>\n",
       "      <th>2</th>\n",
       "      <td>Levothyroxine Sodium*</td>\n",
       "      <td>8.194119e+08</td>\n",
       "      <td>19.835627</td>\n",
       "      <td>41310107</td>\n",
       "      <td>2019</td>\n",
       "    </tr>\n",
       "    <tr>\n",
       "      <th>3</th>\n",
       "      <td>Lisinopril</td>\n",
       "      <td>2.868461e+08</td>\n",
       "      <td>7.718610</td>\n",
       "      <td>37162925</td>\n",
       "      <td>2019</td>\n",
       "    </tr>\n",
       "    <tr>\n",
       "      <th>4</th>\n",
       "      <td>Gabapentin</td>\n",
       "      <td>6.426656e+08</td>\n",
       "      <td>20.396556</td>\n",
       "      <td>31508535</td>\n",
       "      <td>2019</td>\n",
       "    </tr>\n",
       "  </tbody>\n",
       "</table>\n",
       "</div>"
      ],
      "text/plain": [
       "              brand_name  total_spending  unit_cost  total_claims  year\n",
       "0   Atorvastatin Calcium    9.186291e+08  16.802340      54672688  2019\n",
       "1    Amlodipine Besylate    3.092555e+08   7.317753      42260991  2019\n",
       "2  Levothyroxine Sodium*    8.194119e+08  19.835627      41310107  2019\n",
       "3             Lisinopril    2.868461e+08   7.718610      37162925  2019\n",
       "4             Gabapentin    6.426656e+08  20.396556      31508535  2019"
      ]
     },
     "execution_count": 7,
     "metadata": {},
     "output_type": "execute_result"
    }
   ],
   "source": [
    "largest_drugs = drug_df.iloc[0:5]\n",
    "largest_drugs = largest_drugs[['Brnd_Name', 'Tot_Spndng_2019','Avg_Spnd_Per_Clm_2019', 'Tot_Clms_2019']]\n",
    "\n",
    "#cleaning\n",
    "largest_drugs.rename(columns={'Avg_Spnd_Per_Clm_2019' : 'unit_cost',\n",
    "                             'Brnd_Name' : 'brand_name',\n",
    "                             'Tot_Spndng_2019' : 'total_spending',\n",
    "                             'Tot_Clms_2019' : 'total_claims'}\n",
    "                             ,inplace=True)\n",
    "largest_drugs['year'] = 2019\n",
    "largest_drugs.head()"
   ]
  },
  {
   "cell_type": "code",
   "execution_count": null,
   "metadata": {
    "hidden": true
   },
   "outputs": [],
   "source": [
    "#maybe make a class to do the above with different years to pull out the columns and transpose them sort of \n",
    "class df_cleaner:\n",
    "    \n",
    "    def __init__(self,df):\n",
    "        self.df = df \n",
    "        \n",
    "    def year_transpose(self):\n",
    "        pass "
   ]
  },
  {
   "cell_type": "code",
   "execution_count": 9,
   "metadata": {
    "hidden": true
   },
   "outputs": [],
   "source": [
    "test_df = pd.DataFrame(data={'a' : [1,2,3], 'b' : [4,3,2], 'c' : [5,4,8]})"
   ]
  },
  {
   "cell_type": "code",
   "execution_count": null,
   "metadata": {
    "hidden": true
   },
   "outputs": [],
   "source": []
  }
 ],
 "metadata": {
  "kernelspec": {
   "display_name": "Python 3 (ipykernel)",
   "language": "python",
   "name": "python3"
  },
  "language_info": {
   "codemirror_mode": {
    "name": "ipython",
    "version": 3
   },
   "file_extension": ".py",
   "mimetype": "text/x-python",
   "name": "python",
   "nbconvert_exporter": "python",
   "pygments_lexer": "ipython3",
   "version": "3.8.11"
  }
 },
 "nbformat": 4,
 "nbformat_minor": 4
}
