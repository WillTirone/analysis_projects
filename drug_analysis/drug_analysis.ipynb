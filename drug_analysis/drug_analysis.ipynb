{
 "cells": [
  {
   "cell_type": "markdown",
   "metadata": {
    "heading_collapsed": true
   },
   "source": [
    "# Analysis of Drug Data"
   ]
  },
  {
   "cell_type": "markdown",
   "metadata": {
    "hidden": true
   },
   "source": [
    "data from: https://catalog.data.gov/dataset/medicare-part-d-spending-by-drug\n",
    "\n",
    "resource here: https://jakevdp.github.io/PythonDataScienceHandbook/"
   ]
  },
  {
   "cell_type": "code",
   "execution_count": 67,
   "metadata": {
    "hidden": true
   },
   "outputs": [],
   "source": [
    "import pandas as pd \n",
    "import matplotlib.pyplot as plt \n",
    "import ipywidgets as widgets\n",
    "import numpy as np \n",
    "from ipywidgets import interact, interactive\n",
    "import matplotlib.pyplot as plt \n",
    "import re "
   ]
  },
  {
   "cell_type": "code",
   "execution_count": 50,
   "metadata": {
    "hidden": true
   },
   "outputs": [],
   "source": [
    "drug_df = pd.read_csv('part_d_spending.csv')\n",
    "drug_df.sort_values(by='Tot_Clms_2019',inplace=True,ascending=False)\n",
    "drug_df.reset_index(inplace=True,drop=True)"
   ]
  },
  {
   "cell_type": "markdown",
   "metadata": {},
   "source": [
    "# Subsetting into the largest drugs by spending \n"
   ]
  },
  {
   "cell_type": "code",
   "execution_count": 51,
   "metadata": {
    "scrolled": false
   },
   "outputs": [
    {
     "data": {
      "text/html": [
       "<div>\n",
       "<style scoped>\n",
       "    .dataframe tbody tr th:only-of-type {\n",
       "        vertical-align: middle;\n",
       "    }\n",
       "\n",
       "    .dataframe tbody tr th {\n",
       "        vertical-align: top;\n",
       "    }\n",
       "\n",
       "    .dataframe thead th {\n",
       "        text-align: right;\n",
       "    }\n",
       "</style>\n",
       "<table border=\"1\" class=\"dataframe\">\n",
       "  <thead>\n",
       "    <tr style=\"text-align: right;\">\n",
       "      <th></th>\n",
       "      <th>brand_name</th>\n",
       "      <th>total_spending</th>\n",
       "      <th>unit_cost</th>\n",
       "      <th>total_claims</th>\n",
       "      <th>year</th>\n",
       "    </tr>\n",
       "  </thead>\n",
       "  <tbody>\n",
       "    <tr>\n",
       "      <th>0</th>\n",
       "      <td>Atorvastatin Calcium</td>\n",
       "      <td>9.186291e+08</td>\n",
       "      <td>16.802340</td>\n",
       "      <td>54672688</td>\n",
       "      <td>2019</td>\n",
       "    </tr>\n",
       "    <tr>\n",
       "      <th>1</th>\n",
       "      <td>Amlodipine Besylate</td>\n",
       "      <td>3.092555e+08</td>\n",
       "      <td>7.317753</td>\n",
       "      <td>42260991</td>\n",
       "      <td>2019</td>\n",
       "    </tr>\n",
       "    <tr>\n",
       "      <th>2</th>\n",
       "      <td>Levothyroxine Sodium*</td>\n",
       "      <td>8.194119e+08</td>\n",
       "      <td>19.835627</td>\n",
       "      <td>41310107</td>\n",
       "      <td>2019</td>\n",
       "    </tr>\n",
       "    <tr>\n",
       "      <th>3</th>\n",
       "      <td>Lisinopril</td>\n",
       "      <td>2.868461e+08</td>\n",
       "      <td>7.718610</td>\n",
       "      <td>37162925</td>\n",
       "      <td>2019</td>\n",
       "    </tr>\n",
       "    <tr>\n",
       "      <th>4</th>\n",
       "      <td>Gabapentin</td>\n",
       "      <td>6.426656e+08</td>\n",
       "      <td>20.396556</td>\n",
       "      <td>31508535</td>\n",
       "      <td>2019</td>\n",
       "    </tr>\n",
       "  </tbody>\n",
       "</table>\n",
       "</div>"
      ],
      "text/plain": [
       "              brand_name  total_spending  unit_cost  total_claims  year\n",
       "0   Atorvastatin Calcium    9.186291e+08  16.802340      54672688  2019\n",
       "1    Amlodipine Besylate    3.092555e+08   7.317753      42260991  2019\n",
       "2  Levothyroxine Sodium*    8.194119e+08  19.835627      41310107  2019\n",
       "3             Lisinopril    2.868461e+08   7.718610      37162925  2019\n",
       "4             Gabapentin    6.426656e+08  20.396556      31508535  2019"
      ]
     },
     "execution_count": 51,
     "metadata": {},
     "output_type": "execute_result"
    }
   ],
   "source": [
    "largest_drugs = drug_df.iloc[0:5]\n",
    "largest_drugs = largest_drugs[['Brnd_Name', 'Tot_Spndng_2019','Avg_Spnd_Per_Clm_2019', 'Tot_Clms_2019']]\n",
    "\n",
    "#cleaning\n",
    "largest_drugs.rename(columns={'Avg_Spnd_Per_Clm_2019' : 'unit_cost',\n",
    "                             'Brnd_Name' : 'brand_name',\n",
    "                             'Tot_Spndng_2019' : 'total_spending',\n",
    "                             'Tot_Clms_2019' : 'total_claims'}\n",
    "                             ,inplace=True)\n",
    "largest_drugs['year'] = 2019\n",
    "largest_drugs.head()"
   ]
  },
  {
   "cell_type": "code",
   "execution_count": 52,
   "metadata": {},
   "outputs": [],
   "source": [
    "#maybe make a class to do the above with different years to pull out the columns and transpose them sort of \n",
    "class df_cleaner:\n",
    "    \n",
    "    def __init__(self,df):\n",
    "        self.df = df \n",
    "        \n",
    "    def year_transpose(self):\n",
    "        pass "
   ]
  },
  {
   "cell_type": "code",
   "execution_count": 118,
   "metadata": {
    "scrolled": true
   },
   "outputs": [],
   "source": [
    "col_list = pd.Series(drug_df.columns)\n",
    "drug_df.iloc[0:5] # we want to take all of the year columns in this and transpose them / rename \n",
    "year_list = ['2015', '2016', '2017', '2018', '2019']\n",
    "\n",
    "def year_finder(year_list, series):\n",
    "    reorder_columns = []\n",
    "    for i in year_list:\n",
    "        reorder_columns.append(series[series.str.contains(i)])\n",
    "    return reorder_columns\n",
    "        \n",
    "a = year_finder(year_list, col_list)  "
   ]
  },
  {
   "cell_type": "code",
   "execution_count": 120,
   "metadata": {},
   "outputs": [
    {
     "data": {
      "text/plain": [
       "[4                     Tot_Spndng_2015\n",
       " 5                   Tot_Dsg_Unts_2015\n",
       " 6                       Tot_Clms_2015\n",
       " 7                      Tot_Benes_2015\n",
       " 8     Avg_Spnd_Per_Dsg_Unt_Wghtd_2015\n",
       " 9               Avg_Spnd_Per_Clm_2015\n",
       " 10             Avg_Spnd_Per_Bene_2015\n",
       " 11                  Outlier_Flag_2015\n",
       " dtype: object,\n",
       " 12                    Tot_Spndng_2016\n",
       " 13                  Tot_Dsg_Unts_2016\n",
       " 14                      Tot_Clms_2016\n",
       " 15                     Tot_Benes_2016\n",
       " 16    Avg_Spnd_Per_Dsg_Unt_Wghtd_2016\n",
       " 17              Avg_Spnd_Per_Clm_2016\n",
       " 18             Avg_Spnd_Per_Bene_2016\n",
       " 19                  Outlier_Flag_2016\n",
       " dtype: object,\n",
       " 20                    Tot_Spndng_2017\n",
       " 21                  Tot_Dsg_Unts_2017\n",
       " 22                      Tot_Clms_2017\n",
       " 23                     Tot_Benes_2017\n",
       " 24    Avg_Spnd_Per_Dsg_Unt_Wghtd_2017\n",
       " 25              Avg_Spnd_Per_Clm_2017\n",
       " 26             Avg_Spnd_Per_Bene_2017\n",
       " 27                  Outlier_Flag_2017\n",
       " dtype: object,\n",
       " 28                    Tot_Spndng_2018\n",
       " 29                  Tot_Dsg_Unts_2018\n",
       " 30                      Tot_Clms_2018\n",
       " 31                     Tot_Benes_2018\n",
       " 32    Avg_Spnd_Per_Dsg_Unt_Wghtd_2018\n",
       " 33              Avg_Spnd_Per_Clm_2018\n",
       " 34             Avg_Spnd_Per_Bene_2018\n",
       " 35                  Outlier_Flag_2018\n",
       " dtype: object,\n",
       " 36                    Tot_Spndng_2019\n",
       " 37                  Tot_Dsg_Unts_2019\n",
       " 38                      Tot_Clms_2019\n",
       " 39                     Tot_Benes_2019\n",
       " 40    Avg_Spnd_Per_Dsg_Unt_Wghtd_2019\n",
       " 41              Avg_Spnd_Per_Clm_2019\n",
       " 42             Avg_Spnd_Per_Bene_2019\n",
       " 43                  Outlier_Flag_2019\n",
       " dtype: object]"
      ]
     },
     "execution_count": 120,
     "metadata": {},
     "output_type": "execute_result"
    }
   ],
   "source": []
  },
  {
   "cell_type": "markdown",
   "metadata": {
    "heading_collapsed": true
   },
   "source": [
    "# Widgets: "
   ]
  },
  {
   "cell_type": "code",
   "execution_count": 41,
   "metadata": {
    "hidden": true,
    "scrolled": false
   },
   "outputs": [
    {
     "data": {
      "application/vnd.jupyter.widget-view+json": {
       "model_id": "ce42a6f17b5b4955aaedc366f6b4d915",
       "version_major": 2,
       "version_minor": 0
      },
      "text/plain": [
       "Dropdown(description='Drug Name', options=('Atorvastatin Calcium', 'Amlodipine Besylate', 'Levothyroxine Sodiu…"
      ]
     },
     "metadata": {},
     "output_type": "display_data"
    }
   ],
   "source": [
    "#that's pretty neat - I'm not sure how to use widgets and it probably won't display in github. But still, pretty cool.\n",
    "widgets.Dropdown(\n",
    "    options=drug_df[0:5]['Brnd_Name'].unique(),\n",
    "    description='Drug Name')"
   ]
  },
  {
   "cell_type": "markdown",
   "metadata": {
    "hidden": true
   },
   "source": [
    "If you want a dropdown menu that passes non-string values to the Python function, you can pass a list of ('label', value) pairs. The first items are the names in the dropdown menu UI and the second items are values that are the arguments passed to the underlying Python function. (https://ipywidgets.readthedocs.io/en/latest/examples/Using%20Interact.html)"
   ]
  },
  {
   "cell_type": "code",
   "execution_count": 39,
   "metadata": {
    "hidden": true
   },
   "outputs": [
    {
     "data": {
      "application/vnd.jupyter.widget-view+json": {
       "model_id": "671599c00ae94ae9b2e2fb2099fb78f3",
       "version_major": 2,
       "version_minor": 0
      },
      "text/plain": [
       "interactive(children=(Dropdown(description='b', options=(('one', 1), ('two', 2)), value=1), Output(layout=Layo…"
      ]
     },
     "metadata": {},
     "output_type": "display_data"
    }
   ],
   "source": [
    "def f(b):\n",
    "    plt.figure(2)\n",
    "    x = np.linspace(-10, 10, num=1000)\n",
    "    plt.plot(x, x + b)\n",
    "    plt.ylim(-5, 5)\n",
    "    plt.show()\n",
    "    \n",
    "#strings are names in the dropdown while second value is passed to function \n",
    "interactive_plot = interactive(f, b=[('one', 1), ('two', 2)])\n",
    "output = interactive_plot.children[-1]\n",
    "output.layout.height = '350px'\n",
    "interactive_plot"
   ]
  },
  {
   "cell_type": "code",
   "execution_count": null,
   "metadata": {
    "hidden": true
   },
   "outputs": [],
   "source": []
  }
 ],
 "metadata": {
  "kernelspec": {
   "display_name": "Python 3 (ipykernel)",
   "language": "python",
   "name": "python3"
  },
  "language_info": {
   "codemirror_mode": {
    "name": "ipython",
    "version": 3
   },
   "file_extension": ".py",
   "mimetype": "text/x-python",
   "name": "python",
   "nbconvert_exporter": "python",
   "pygments_lexer": "ipython3",
   "version": "3.8.11"
  }
 },
 "nbformat": 4,
 "nbformat_minor": 4
}
